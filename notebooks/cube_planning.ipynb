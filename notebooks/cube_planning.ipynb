{
 "cells": [
  {
   "cell_type": "code",
   "execution_count": 1,
   "id": "a59f1afe",
   "metadata": {},
   "outputs": [
    {
     "name": "stdout",
     "output_type": "stream",
     "text": [
      "✓ Added 3 cubes to scene within 0.3m radius\n",
      "IK solver using site: attachment_site\n",
      "⚠ Viewer could not be launched: `launch_passive` requires that the Python script be run under `mjpython` on macOS\n",
      "  Running in headless mode\n",
      "  Tip: Use render_mode='offscreen' for notebook visualization\n",
      "Cube positions: [array([0.14989117, 0.10709959, 0.03      ]), array([ 0.23835283, -0.02825224,  0.03      ]), array([-0.20567503,  0.09750002,  0.03      ])]\n"
     ]
    }
   ],
   "source": [
    "import os\n",
    "from pathlib import Path\n",
    "\n",
    "# Get project root (one level up from notebooks)\n",
    "project_root = Path(os.getcwd()).parent\n",
    "model_path = project_root / \"src/applied_planning/sim/assets/ufactory_lite6/scene.xml\"\n",
    "\n",
    "from applied_planning.sim.adapters.mujoco_backend import MujocoLite6Adapter\n",
    "\n",
    "# Create simulator with 3 cubes\n",
    "sim = MujocoLite6Adapter(\n",
    "    model_path=str(model_path),\n",
    "    num_cubes=3,\n",
    "    cube_placement_radius=0.3,\n",
    "    viewer=True,\n",
    "    render_mode=\"passive\"  # or \"offscreen\" for notebook rendering\n",
    ")\n",
    "\n",
    "# Reset and get cube positions\n",
    "obs = sim.reset()\n",
    "cube_positions = sim.get_cube_positions()\n",
    "print(f\"Cube positions: {cube_positions}\")"
   ]
  },
  {
   "cell_type": "code",
   "execution_count": null,
   "id": "05831d33",
   "metadata": {},
   "outputs": [],
   "source": []
  }
 ],
 "metadata": {
  "kernelspec": {
   "display_name": "applied-planning",
   "language": "python",
   "name": "python3"
  },
  "language_info": {
   "codemirror_mode": {
    "name": "ipython",
    "version": 3
   },
   "file_extension": ".py",
   "mimetype": "text/x-python",
   "name": "python",
   "nbconvert_exporter": "python",
   "pygments_lexer": "ipython3",
   "version": "3.10.4"
  }
 },
 "nbformat": 4,
 "nbformat_minor": 5
}
